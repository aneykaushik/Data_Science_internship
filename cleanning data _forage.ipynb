{
 "cells": [
  {
   "cell_type": "code",
   "execution_count": 4,
   "id": "31233831",
   "metadata": {},
   "outputs": [
    {
     "name": "stdout",
     "output_type": "stream",
     "text": [
      "Requirement already satisfied: ipykernel in c:\\users\\acer\\anaconda3\\lib\\site-packages (6.15.2)Note: you may need to restart the kernel to use updated packages.\n",
      "\n",
      "Collecting ipykernel\n",
      "  Using cached ipykernel-6.25.0-py3-none-any.whl (153 kB)\n",
      "Requirement already satisfied: pyzmq>=20 in c:\\users\\acer\\anaconda3\\lib\\site-packages (from ipykernel) (23.2.0)\n",
      "Requirement already satisfied: tornado>=6.1 in c:\\users\\acer\\anaconda3\\lib\\site-packages (from ipykernel) (6.1)\n",
      "Requirement already satisfied: ipython>=7.23.1 in c:\\users\\acer\\anaconda3\\lib\\site-packages (from ipykernel) (7.31.1)\n",
      "Requirement already satisfied: debugpy>=1.6.5 in c:\\users\\acer\\anaconda3\\lib\\site-packages (from ipykernel) (1.6.7)\n",
      "Requirement already satisfied: nest-asyncio in c:\\users\\acer\\anaconda3\\lib\\site-packages (from ipykernel) (1.5.5)\n",
      "Collecting comm>=0.1.1\n",
      "  Using cached comm-0.1.4-py3-none-any.whl (6.6 kB)\n",
      "Requirement already satisfied: packaging in c:\\users\\acer\\anaconda3\\lib\\site-packages (from ipykernel) (21.3)\n",
      "Requirement already satisfied: psutil in c:\\users\\acer\\anaconda3\\lib\\site-packages (from ipykernel) (5.9.0)\n",
      "Requirement already satisfied: traitlets>=5.4.0 in c:\\users\\acer\\anaconda3\\lib\\site-packages (from ipykernel) (5.9.0)\n",
      "Requirement already satisfied: jupyter-client>=6.1.12 in c:\\users\\acer\\anaconda3\\lib\\site-packages (from ipykernel) (7.3.4)\n",
      "Collecting jupyter-core!=5.0.*,>=4.12\n",
      "  Using cached jupyter_core-5.3.1-py3-none-any.whl (93 kB)\n",
      "Requirement already satisfied: matplotlib-inline>=0.1 in c:\\users\\acer\\anaconda3\\lib\\site-packages (from ipykernel) (0.1.6)\n",
      "Requirement already satisfied: prompt-toolkit!=3.0.0,!=3.0.1,<3.1.0,>=2.0.0 in c:\\users\\acer\\anaconda3\\lib\\site-packages (from ipython>=7.23.1->ipykernel) (3.0.20)\n",
      "Requirement already satisfied: setuptools>=18.5 in c:\\users\\acer\\anaconda3\\lib\\site-packages (from ipython>=7.23.1->ipykernel) (63.4.1)\n",
      "Requirement already satisfied: decorator in c:\\users\\acer\\anaconda3\\lib\\site-packages (from ipython>=7.23.1->ipykernel) (5.1.1)\n",
      "Requirement already satisfied: pickleshare in c:\\users\\acer\\anaconda3\\lib\\site-packages (from ipython>=7.23.1->ipykernel) (0.7.5)\n",
      "Requirement already satisfied: pygments in c:\\users\\acer\\anaconda3\\lib\\site-packages (from ipython>=7.23.1->ipykernel) (2.11.2)\n",
      "Requirement already satisfied: colorama in c:\\users\\acer\\anaconda3\\lib\\site-packages (from ipython>=7.23.1->ipykernel) (0.4.5)\n",
      "Requirement already satisfied: jedi>=0.16 in c:\\users\\acer\\anaconda3\\lib\\site-packages (from ipython>=7.23.1->ipykernel) (0.18.1)\n",
      "Requirement already satisfied: backcall in c:\\users\\acer\\anaconda3\\lib\\site-packages (from ipython>=7.23.1->ipykernel) (0.2.0)\n",
      "Requirement already satisfied: entrypoints in c:\\users\\acer\\anaconda3\\lib\\site-packages (from jupyter-client>=6.1.12->ipykernel) (0.4)\n",
      "Requirement already satisfied: python-dateutil>=2.8.2 in c:\\users\\acer\\anaconda3\\lib\\site-packages (from jupyter-client>=6.1.12->ipykernel) (2.8.2)\n",
      "Requirement already satisfied: pywin32>=300 in c:\\users\\acer\\anaconda3\\lib\\site-packages (from jupyter-core!=5.0.*,>=4.12->ipykernel) (302)\n",
      "Requirement already satisfied: platformdirs>=2.5 in c:\\users\\acer\\anaconda3\\lib\\site-packages (from jupyter-core!=5.0.*,>=4.12->ipykernel) (2.5.2)\n",
      "Requirement already satisfied: pyparsing!=3.0.5,>=2.0.2 in c:\\users\\acer\\anaconda3\\lib\\site-packages (from packaging->ipykernel) (3.0.9)\n",
      "Requirement already satisfied: parso<0.9.0,>=0.8.0 in c:\\users\\acer\\anaconda3\\lib\\site-packages (from jedi>=0.16->ipython>=7.23.1->ipykernel) (0.8.3)\n",
      "Requirement already satisfied: wcwidth in c:\\users\\acer\\anaconda3\\lib\\site-packages (from prompt-toolkit!=3.0.0,!=3.0.1,<3.1.0,>=2.0.0->ipython>=7.23.1->ipykernel) (0.2.5)\n",
      "Requirement already satisfied: six>=1.5 in c:\\users\\acer\\anaconda3\\lib\\site-packages (from python-dateutil>=2.8.2->jupyter-client>=6.1.12->ipykernel) (1.16.0)\n",
      "Installing collected packages: jupyter-core, comm, ipykernel\n",
      "  Attempting uninstall: jupyter-core\n",
      "    Found existing installation: jupyter_core 4.11.1\n",
      "    Uninstalling jupyter_core-4.11.1:\n",
      "      Successfully uninstalled jupyter_core-4.11.1\n",
      "  Attempting uninstall: ipykernel\n",
      "    Found existing installation: ipykernel 6.15.2\n",
      "    Uninstalling ipykernel-6.15.2:\n",
      "      Successfully uninstalled ipykernel-6.15.2\n",
      "Successfully installed comm-0.1.4 ipykernel-6.25.0 jupyter-core-5.3.1\n"
     ]
    },
    {
     "name": "stderr",
     "output_type": "stream",
     "text": [
      "ERROR: pip's dependency resolver does not currently take into account all the packages that are installed. This behaviour is the source of the following dependency conflicts.\n",
      "conda-repo-cli 1.0.20 requires clyent==1.2.1, but you have clyent 1.2.2 which is incompatible.\n",
      "conda-repo-cli 1.0.20 requires nbformat==5.4.0, but you have nbformat 5.5.0 which is incompatible.\n"
     ]
    }
   ],
   "source": [
    "pip install ipykernel --upgrade"
   ]
  },
  {
   "cell_type": "markdown",
   "id": "17cb196f",
   "metadata": {},
   "source": [
    "# Data Cleaning "
   ]
  },
  {
   "cell_type": "code",
   "execution_count": null,
   "id": "29d7bee4",
   "metadata": {},
   "outputs": [],
   "source": [
    "import pandas as pd\n",
    "import matplotlib.pyplot as plt\n",
    "import seaborn as sns\n",
    "import os\n",
    "\n",
    "import re\n"
   ]
  },
  {
   "cell_type": "code",
   "execution_count": null,
   "id": "24196d15",
   "metadata": {},
   "outputs": [],
   "source": [
    "cwd = os.getcwd()\n",
    "df= pd.read_csv(cwd+\"/BA_reviews.csv\",index_col=0)\n"
   ]
  },
  {
   "cell_type": "code",
   "execution_count": 7,
   "id": "840054d1",
   "metadata": {},
   "outputs": [
    {
     "data": {
      "text/html": [
       "<div>\n",
       "<style scoped>\n",
       "    .dataframe tbody tr th:only-of-type {\n",
       "        vertical-align: middle;\n",
       "    }\n",
       "\n",
       "    .dataframe tbody tr th {\n",
       "        vertical-align: top;\n",
       "    }\n",
       "\n",
       "    .dataframe thead th {\n",
       "        text-align: right;\n",
       "    }\n",
       "</style>\n",
       "<table border=\"1\" class=\"dataframe\">\n",
       "  <thead>\n",
       "    <tr style=\"text-align: right;\">\n",
       "      <th></th>\n",
       "      <th>reviews</th>\n",
       "      <th>stars</th>\n",
       "      <th>date</th>\n",
       "      <th>country</th>\n",
       "    </tr>\n",
       "  </thead>\n",
       "  <tbody>\n",
       "    <tr>\n",
       "      <th>0</th>\n",
       "      <td>✅ Trip Verified |  Late boarding led to a one ...</td>\n",
       "      <td>5</td>\n",
       "      <td>5th August 2023</td>\n",
       "      <td>(United Kingdom)</td>\n",
       "    </tr>\n",
       "    <tr>\n",
       "      <th>1</th>\n",
       "      <td>✅ Trip Verified | As usual the flight is delay...</td>\n",
       "      <td>1</td>\n",
       "      <td>4th August 2023</td>\n",
       "      <td>(United Kingdom)</td>\n",
       "    </tr>\n",
       "    <tr>\n",
       "      <th>2</th>\n",
       "      <td>✅ Trip Verified |  I had the most fantastic BA...</td>\n",
       "      <td>1</td>\n",
       "      <td>1st August 2023</td>\n",
       "      <td>(Hong Kong)</td>\n",
       "    </tr>\n",
       "    <tr>\n",
       "      <th>3</th>\n",
       "      <td>✅ Trip Verified |  Couldn’t book in online. Ar...</td>\n",
       "      <td>10</td>\n",
       "      <td>31st July 2023</td>\n",
       "      <td>(United Kingdom)</td>\n",
       "    </tr>\n",
       "    <tr>\n",
       "      <th>4</th>\n",
       "      <td>✅ Trip Verified | London Heathrow to Mumbai in...</td>\n",
       "      <td>1</td>\n",
       "      <td>31st July 2023</td>\n",
       "      <td>(Iceland)</td>\n",
       "    </tr>\n",
       "  </tbody>\n",
       "</table>\n",
       "</div>"
      ],
      "text/plain": [
       "                                             reviews  stars             date  \\\n",
       "0  ✅ Trip Verified |  Late boarding led to a one ...      5  5th August 2023   \n",
       "1  ✅ Trip Verified | As usual the flight is delay...      1  4th August 2023   \n",
       "2  ✅ Trip Verified |  I had the most fantastic BA...      1  1st August 2023   \n",
       "3  ✅ Trip Verified |  Couldn’t book in online. Ar...     10   31st July 2023   \n",
       "4  ✅ Trip Verified | London Heathrow to Mumbai in...      1   31st July 2023   \n",
       "\n",
       "              country  \n",
       "0   (United Kingdom)   \n",
       "1   (United Kingdom)   \n",
       "2        (Hong Kong)   \n",
       "3   (United Kingdom)   \n",
       "4          (Iceland)   "
      ]
     },
     "execution_count": 7,
     "metadata": {},
     "output_type": "execute_result"
    }
   ],
   "source": [
    "df.head()"
   ]
  },
  {
   "cell_type": "code",
   "execution_count": 8,
   "id": "720aa9f4",
   "metadata": {},
   "outputs": [],
   "source": [
    "df['verified'] = df.reviews.str.contains(\"Trip Verified\")"
   ]
  },
  {
   "cell_type": "code",
   "execution_count": 9,
   "id": "d84adf29",
   "metadata": {},
   "outputs": [
    {
     "data": {
      "text/plain": [
       "0       True\n",
       "1       True\n",
       "2       True\n",
       "3       True\n",
       "4       True\n",
       "        ... \n",
       "4195    True\n",
       "4196    True\n",
       "4197    True\n",
       "4198    True\n",
       "4199    True\n",
       "Name: verified, Length: 4200, dtype: bool"
      ]
     },
     "execution_count": 9,
     "metadata": {},
     "output_type": "execute_result"
    }
   ],
   "source": [
    "df['verified']"
   ]
  },
  {
   "cell_type": "markdown",
   "id": "55fe58c6",
   "metadata": {},
   "source": [
    "# cleaning reviews"
   ]
  },
  {
   "cell_type": "code",
   "execution_count": 10,
   "id": "857cc596",
   "metadata": {},
   "outputs": [
    {
     "name": "stderr",
     "output_type": "stream",
     "text": [
      "[nltk_data] Error loading stopwords: <urlopen error [WinError 10060] A\n",
      "[nltk_data]     connection attempt failed because the connected party\n",
      "[nltk_data]     did not properly respond after a period of time, or\n",
      "[nltk_data]     established connection failed because connected host\n",
      "[nltk_data]     has failed to respond>\n",
      "[nltk_data] Error loading wordnet: <urlopen error [WinError 10060] A\n",
      "[nltk_data]     connection attempt failed because the connected party\n",
      "[nltk_data]     did not properly respond after a period of time, or\n",
      "[nltk_data]     established connection failed because connected host\n",
      "[nltk_data]     has failed to respond>\n",
      "[nltk_data] Downloading package omw-1.4 to\n",
      "[nltk_data]     C:\\Users\\acer\\AppData\\Roaming\\nltk_data...\n",
      "[nltk_data]   Package omw-1.4 is already up-to-date!\n"
     ]
    },
    {
     "data": {
      "text/plain": [
       "True"
      ]
     },
     "execution_count": 10,
     "metadata": {},
     "output_type": "execute_result"
    }
   ],
   "source": [
    "import nltk\n",
    "nltk.download('stopwords')\n",
    "nltk.download('wordnet')\n",
    "nltk.download('omw-1.4')"
   ]
  },
  {
   "cell_type": "code",
   "execution_count": 11,
   "id": "4d006c7c",
   "metadata": {},
   "outputs": [],
   "source": [
    "import math"
   ]
  },
  {
   "cell_type": "code",
   "execution_count": 12,
   "id": "d9d708ac",
   "metadata": {},
   "outputs": [],
   "source": [
    "from nltk.stem import WordNetLemmatizer\n",
    "from nltk.corpus import stopwords\n",
    "lemma = WordNetLemmatizer()\n",
    "\n",
    "reviews_data = df.reviews.str.strip(\"Trip verified |\")\n",
    "\n",
    "corpus =[]\n",
    "\n",
    "for rev in reviews_data:\n",
    "    rev = re.sub('[^a-zA-Z]',' ',rev)\n",
    "    rev = rev.lower()\n",
    "    rev = rev.split()\n",
    "    rev = [lemma.lemmatize(word) for word in rev if word not in set(stopwords.words(\"english\"))]\n",
    "    rev = \" \".join(rev)\n",
    "    corpus.append(rev)"
   ]
  },
  {
   "cell_type": "code",
   "execution_count": 13,
   "id": "51bb3ce9",
   "metadata": {},
   "outputs": [],
   "source": [
    "df['corpus']= corpus \n"
   ]
  },
  {
   "cell_type": "code",
   "execution_count": null,
   "id": "3235f8e6",
   "metadata": {},
   "outputs": [],
   "source": [
    "df.head()"
   ]
  },
  {
   "cell_type": "markdown",
   "id": "bb134f3c",
   "metadata": {},
   "source": [
    "# cleaning/format data"
   ]
  },
  {
   "cell_type": "code",
   "execution_count": 15,
   "id": "08bafc16",
   "metadata": {},
   "outputs": [
    {
     "data": {
      "text/plain": [
       "reviews     object\n",
       "stars        int64\n",
       "date        object\n",
       "country     object\n",
       "verified      bool\n",
       "corpus      object\n",
       "dtype: object"
      ]
     },
     "execution_count": 15,
     "metadata": {},
     "output_type": "execute_result"
    }
   ],
   "source": [
    "df.dtypes"
   ]
  },
  {
   "cell_type": "code",
   "execution_count": 16,
   "id": "efa63db3",
   "metadata": {},
   "outputs": [],
   "source": [
    "df.date = pd.to_datetime(df.date)"
   ]
  },
  {
   "cell_type": "code",
   "execution_count": 17,
   "id": "681efa04",
   "metadata": {},
   "outputs": [
    {
     "data": {
      "text/plain": [
       "0   2023-08-05\n",
       "1   2023-08-04\n",
       "2   2023-08-01\n",
       "3   2023-07-31\n",
       "4   2023-07-31\n",
       "Name: date, dtype: datetime64[ns]"
      ]
     },
     "execution_count": 17,
     "metadata": {},
     "output_type": "execute_result"
    }
   ],
   "source": [
    "df.date.head()"
   ]
  },
  {
   "cell_type": "markdown",
   "id": "12c26159",
   "metadata": {},
   "source": [
    "# cleaning ratings with stars "
   ]
  },
  {
   "cell_type": "code",
   "execution_count": 18,
   "id": "5e4eee93",
   "metadata": {},
   "outputs": [
    {
     "data": {
      "text/plain": [
       "array([ 5,  1, 10,  9,  6,  2,  4,  8,  3,  7], dtype=int64)"
      ]
     },
     "execution_count": 18,
     "metadata": {},
     "output_type": "execute_result"
    }
   ],
   "source": [
    "df.stars.unique()"
   ]
  },
  {
   "cell_type": "code",
   "execution_count": 19,
   "id": "3a2522cb",
   "metadata": {},
   "outputs": [
    {
     "data": {
      "text/plain": [
       "1     1350\n",
       "2      482\n",
       "10     408\n",
       "3      385\n",
       "5      338\n",
       "9      329\n",
       "8      296\n",
       "4      241\n",
       "7      217\n",
       "6      154\n",
       "Name: stars, dtype: int64"
      ]
     },
     "execution_count": 19,
     "metadata": {},
     "output_type": "execute_result"
    }
   ],
   "source": [
    "df.stars.value_counts()"
   ]
  },
  {
   "cell_type": "markdown",
   "id": "a5d62ef9",
   "metadata": {},
   "source": [
    "# check for null values "
   ]
  },
  {
   "cell_type": "code",
   "execution_count": 20,
   "id": "c6a57f0c",
   "metadata": {},
   "outputs": [
    {
     "data": {
      "text/plain": [
       "reviews  stars  date   country  verified  corpus\n",
       "False    False  False  False    False     False     4200\n",
       "dtype: int64"
      ]
     },
     "execution_count": 20,
     "metadata": {},
     "output_type": "execute_result"
    }
   ],
   "source": [
    "df.isnull().value_counts()"
   ]
  },
  {
   "cell_type": "code",
   "execution_count": 21,
   "id": "9578a35d",
   "metadata": {},
   "outputs": [
    {
     "data": {
      "text/plain": [
       "False    4200\n",
       "Name: country, dtype: int64"
      ]
     },
     "execution_count": 21,
     "metadata": {},
     "output_type": "execute_result"
    }
   ],
   "source": [
    "df.country.isnull().value_counts()"
   ]
  },
  {
   "cell_type": "code",
   "execution_count": 22,
   "id": "59b068d9",
   "metadata": {},
   "outputs": [],
   "source": [
    "df.drop(df[df.country.isnull()==True].index, axis=0,inplace= True)"
   ]
  },
  {
   "cell_type": "code",
   "execution_count": 23,
   "id": "cc4007e3",
   "metadata": {},
   "outputs": [
    {
     "data": {
      "text/plain": [
       "(4200, 6)"
      ]
     },
     "execution_count": 23,
     "metadata": {},
     "output_type": "execute_result"
    }
   ],
   "source": [
    "df.shape"
   ]
  },
  {
   "cell_type": "code",
   "execution_count": 24,
   "id": "5d66144c",
   "metadata": {},
   "outputs": [
    {
     "data": {
      "text/html": [
       "<div>\n",
       "<style scoped>\n",
       "    .dataframe tbody tr th:only-of-type {\n",
       "        vertical-align: middle;\n",
       "    }\n",
       "\n",
       "    .dataframe tbody tr th {\n",
       "        vertical-align: top;\n",
       "    }\n",
       "\n",
       "    .dataframe thead th {\n",
       "        text-align: right;\n",
       "    }\n",
       "</style>\n",
       "<table border=\"1\" class=\"dataframe\">\n",
       "  <thead>\n",
       "    <tr style=\"text-align: right;\">\n",
       "      <th></th>\n",
       "      <th>reviews</th>\n",
       "      <th>stars</th>\n",
       "      <th>date</th>\n",
       "      <th>country</th>\n",
       "      <th>verified</th>\n",
       "      <th>corpus</th>\n",
       "    </tr>\n",
       "  </thead>\n",
       "  <tbody>\n",
       "    <tr>\n",
       "      <th>0</th>\n",
       "      <td>✅ Trip Verified |  Late boarding led to a one ...</td>\n",
       "      <td>5</td>\n",
       "      <td>2023-08-05</td>\n",
       "      <td>(United Kingdom)</td>\n",
       "      <td>True</td>\n",
       "      <td>trip verified late boarding led one hour fligh...</td>\n",
       "    </tr>\n",
       "    <tr>\n",
       "      <th>1</th>\n",
       "      <td>✅ Trip Verified | As usual the flight is delay...</td>\n",
       "      <td>1</td>\n",
       "      <td>2023-08-04</td>\n",
       "      <td>(United Kingdom)</td>\n",
       "      <td>True</td>\n",
       "      <td>trip verified usual flight delayed ba try blam...</td>\n",
       "    </tr>\n",
       "    <tr>\n",
       "      <th>2</th>\n",
       "      <td>✅ Trip Verified |  I had the most fantastic BA...</td>\n",
       "      <td>1</td>\n",
       "      <td>2023-08-01</td>\n",
       "      <td>(Hong Kong)</td>\n",
       "      <td>True</td>\n",
       "      <td>trip verified fantastic ba flight today cabin ...</td>\n",
       "    </tr>\n",
       "    <tr>\n",
       "      <th>3</th>\n",
       "      <td>✅ Trip Verified |  Couldn’t book in online. Ar...</td>\n",
       "      <td>10</td>\n",
       "      <td>2023-07-31</td>\n",
       "      <td>(United Kingdom)</td>\n",
       "      <td>True</td>\n",
       "      <td>trip verified book online arrived check find b...</td>\n",
       "    </tr>\n",
       "    <tr>\n",
       "      <th>4</th>\n",
       "      <td>✅ Trip Verified | London Heathrow to Mumbai in...</td>\n",
       "      <td>1</td>\n",
       "      <td>2023-07-31</td>\n",
       "      <td>(Iceland)</td>\n",
       "      <td>True</td>\n",
       "      <td>trip verified london heathrow mumbai boeing bu...</td>\n",
       "    </tr>\n",
       "    <tr>\n",
       "      <th>...</th>\n",
       "      <td>...</td>\n",
       "      <td>...</td>\n",
       "      <td>...</td>\n",
       "      <td>...</td>\n",
       "      <td>...</td>\n",
       "      <td>...</td>\n",
       "    </tr>\n",
       "    <tr>\n",
       "      <th>4195</th>\n",
       "      <td>✅ Trip Verified | Flew London Gatwick to Tiran...</td>\n",
       "      <td>2</td>\n",
       "      <td>2018-07-30</td>\n",
       "      <td>(United Kingdom)</td>\n",
       "      <td>True</td>\n",
       "      <td>trip verified flew london gatwick tirana rinas...</td>\n",
       "    </tr>\n",
       "    <tr>\n",
       "      <th>4196</th>\n",
       "      <td>✅ Trip Verified |  London Heathrow to Murcia a...</td>\n",
       "      <td>3</td>\n",
       "      <td>2018-07-29</td>\n",
       "      <td>(China)</td>\n",
       "      <td>True</td>\n",
       "      <td>trip verified london heathrow murcia back prob...</td>\n",
       "    </tr>\n",
       "    <tr>\n",
       "      <th>4197</th>\n",
       "      <td>✅ Trip Verified |  London to Amsterdam. BA's s...</td>\n",
       "      <td>7</td>\n",
       "      <td>2018-07-28</td>\n",
       "      <td>(United Kingdom)</td>\n",
       "      <td>True</td>\n",
       "      <td>trip verified london amsterdam ba service gone...</td>\n",
       "    </tr>\n",
       "    <tr>\n",
       "      <th>4198</th>\n",
       "      <td>✅ Trip Verified |  Aberdeen to Abu Dhabi via L...</td>\n",
       "      <td>5</td>\n",
       "      <td>2018-07-27</td>\n",
       "      <td>(United Kingdom)</td>\n",
       "      <td>True</td>\n",
       "      <td>trip verified aberdeen abu dhabi via london de...</td>\n",
       "    </tr>\n",
       "    <tr>\n",
       "      <th>4199</th>\n",
       "      <td>✅ Trip Verified |  Prague to Denver via London...</td>\n",
       "      <td>2</td>\n",
       "      <td>2018-07-26</td>\n",
       "      <td>(Czech Republic)</td>\n",
       "      <td>True</td>\n",
       "      <td>trip verified prague denver via london almost ...</td>\n",
       "    </tr>\n",
       "  </tbody>\n",
       "</table>\n",
       "<p>4200 rows × 6 columns</p>\n",
       "</div>"
      ],
      "text/plain": [
       "                                                reviews  stars       date  \\\n",
       "0     ✅ Trip Verified |  Late boarding led to a one ...      5 2023-08-05   \n",
       "1     ✅ Trip Verified | As usual the flight is delay...      1 2023-08-04   \n",
       "2     ✅ Trip Verified |  I had the most fantastic BA...      1 2023-08-01   \n",
       "3     ✅ Trip Verified |  Couldn’t book in online. Ar...     10 2023-07-31   \n",
       "4     ✅ Trip Verified | London Heathrow to Mumbai in...      1 2023-07-31   \n",
       "...                                                 ...    ...        ...   \n",
       "4195  ✅ Trip Verified | Flew London Gatwick to Tiran...      2 2018-07-30   \n",
       "4196  ✅ Trip Verified |  London Heathrow to Murcia a...      3 2018-07-29   \n",
       "4197  ✅ Trip Verified |  London to Amsterdam. BA's s...      7 2018-07-28   \n",
       "4198  ✅ Trip Verified |  Aberdeen to Abu Dhabi via L...      5 2018-07-27   \n",
       "4199  ✅ Trip Verified |  Prague to Denver via London...      2 2018-07-26   \n",
       "\n",
       "                 country  verified  \\\n",
       "0      (United Kingdom)       True   \n",
       "1      (United Kingdom)       True   \n",
       "2           (Hong Kong)       True   \n",
       "3      (United Kingdom)       True   \n",
       "4             (Iceland)       True   \n",
       "...                  ...       ...   \n",
       "4195   (United Kingdom)       True   \n",
       "4196            (China)       True   \n",
       "4197   (United Kingdom)       True   \n",
       "4198   (United Kingdom)       True   \n",
       "4199   (Czech Republic)       True   \n",
       "\n",
       "                                                 corpus  \n",
       "0     trip verified late boarding led one hour fligh...  \n",
       "1     trip verified usual flight delayed ba try blam...  \n",
       "2     trip verified fantastic ba flight today cabin ...  \n",
       "3     trip verified book online arrived check find b...  \n",
       "4     trip verified london heathrow mumbai boeing bu...  \n",
       "...                                                 ...  \n",
       "4195  trip verified flew london gatwick tirana rinas...  \n",
       "4196  trip verified london heathrow murcia back prob...  \n",
       "4197  trip verified london amsterdam ba service gone...  \n",
       "4198  trip verified aberdeen abu dhabi via london de...  \n",
       "4199  trip verified prague denver via london almost ...  \n",
       "\n",
       "[4200 rows x 6 columns]"
      ]
     },
     "execution_count": 24,
     "metadata": {},
     "output_type": "execute_result"
    }
   ],
   "source": [
    "df.reset_index(drop=True)"
   ]
  },
  {
   "cell_type": "code",
   "execution_count": 25,
   "id": "7d7dcbb8",
   "metadata": {},
   "outputs": [],
   "source": [
    "df.to_csv(cwd + \"/cleaned-BA-reviews.csv\")\n"
   ]
  },
  {
   "cell_type": "code",
   "execution_count": 26,
   "id": "c7f711f4",
   "metadata": {},
   "outputs": [
    {
     "ename": "SyntaxError",
     "evalue": "EOL while scanning string literal (4140664488.py, line 1)",
     "output_type": "error",
     "traceback": [
      "\u001b[1;36m  File \u001b[1;32m\"C:\\Users\\acer\\AppData\\Local\\Temp\\ipykernel_6264\\4140664488.py\"\u001b[1;36m, line \u001b[1;32m1\u001b[0m\n\u001b[1;33m    df.to_csv(cwd+ \"/cleaned-\u001b[0m\n\u001b[1;37m                             ^\u001b[0m\n\u001b[1;31mSyntaxError\u001b[0m\u001b[1;31m:\u001b[0m EOL while scanning string literal\n"
     ]
    }
   ],
   "source": [
    "df.to_csv(cwd+ \"/cleaned-"
   ]
  },
  {
   "cell_type": "code",
   "execution_count": null,
   "id": "3f22eaba",
   "metadata": {},
   "outputs": [],
   "source": [
    "\n",
    "\n"
   ]
  }
 ],
 "metadata": {
  "kernelspec": {
   "display_name": "Python 3 (ipykernel)",
   "language": "python",
   "name": "python3"
  },
  "language_info": {
   "codemirror_mode": {
    "name": "ipython",
    "version": 3
   },
   "file_extension": ".py",
   "mimetype": "text/x-python",
   "name": "python",
   "nbconvert_exporter": "python",
   "pygments_lexer": "ipython3",
   "version": "3.9.13"
  }
 },
 "nbformat": 4,
 "nbformat_minor": 5
}
